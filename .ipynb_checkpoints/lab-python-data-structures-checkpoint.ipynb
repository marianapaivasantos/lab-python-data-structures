{
 "cells": [
  {
   "cell_type": "markdown",
   "metadata": {
    "tags": []
   },
   "source": [
    "# Lab | Data Structures "
   ]
  },
  {
   "cell_type": "markdown",
   "metadata": {},
   "source": [
    "## Exercise: Managing Customer Orders\n",
    "\n",
    "As part of a business venture, you are starting an online store that sells various products. To ensure smooth operations, you need to develop a program that manages customer orders and inventory.\n",
    "\n",
    "Follow the steps below to complete the exercise:\n",
    "\n",
    "1. Define a list called `products` that contains the following items: \"t-shirt\", \"mug\", \"hat\", \"book\", \"keychain\".\n",
    "\n",
    "2. Create an empty dictionary called `inventory`.\n",
    "\n",
    "3. Ask the user to input the quantity of each product available in the inventory. Use the product names from the `products` list as keys in the `inventory` dictionary and assign the respective quantities as values.\n",
    "\n",
    "4. Create an empty set called `customer_orders`.\n",
    "\n",
    "5. Ask the user to input the name of three products that a customer wants to order (from those in the products list, meaning three products out of \"t-shirt\", \"mug\", \"hat\", \"book\" or \"keychain\". Add each product name to the `customer_orders` set.\n",
    "\n",
    "6. Print the products in the `customer_orders` set.\n",
    "\n",
    "7. Calculate the following order statistics:\n",
    "   - Total Products Ordered: The total number of products in the `customer_orders` set.\n",
    "   - Percentage of Products Ordered: The percentage of products ordered compared to the total available products.\n",
    "   \n",
    "   Store these statistics in a tuple called `order_status`.\n",
    "\n",
    "8. Print the order statistics using the following format:\n",
    "   ```\n",
    "   Order Statistics:\n",
    "   Total Products Ordered: <total_products_ordered>\n",
    "   Percentage of Products Ordered: <percentage_ordered>% \n",
    "   ```\n",
    "\n",
    "9. Update the inventory by subtracting 1 from the quantity of each product. Modify the `inventory` dictionary accordingly.\n",
    "\n",
    "10. Print the updated inventory, displaying the quantity of each product on separate lines.\n",
    "\n",
    "Solve the exercise by implementing the steps using the Python concepts of lists, dictionaries, sets, and basic input/output operations. "
   ]
  },
  {
   "cell_type": "code",
   "execution_count": 22,
   "metadata": {},
   "outputs": [
    {
     "name": "stdout",
     "output_type": "stream",
     "text": [
      "<class 'dict'>\n",
      "How many t-shirts do we have? 2\n",
      "How many mugs do we have? 3\n",
      "How many hats do we have? 4\n",
      "How many books do we have? 5\n",
      "How many keychains do we have? 6\n",
      "What does the client wants to order from our inventory? mug\n",
      "What does the client wants to order from our inventory? hat\n",
      "What does the client wants to order from our inventory? book\n",
      "The customer ordered:  {'book', 'mug', 'hat'}\n",
      "Order Statistics: \n",
      "Total Products Ordered:  3\n",
      "Percentage of Products Ordered:  15.0  %\n"
     ]
    },
    {
     "data": {
      "text/plain": [
       "{'t-shirt': 2, 'mug': 2, 'hat': 3, 'book': 4, 'keychain': 6}"
      ]
     },
     "execution_count": 22,
     "metadata": {},
     "output_type": "execute_result"
    }
   ],
   "source": [
    "products = [\"t-shirt\", \"mug\", \"hat\", \"book\", \"keychain\"]\n",
    "inventory = {}\n",
    "print(type(inventory))\n",
    "\n",
    "quantity_tshirt = int(input(\"How many t-shirts do we have? \"))\n",
    "quantity_mug = int(input(\"How many mugs do we have? \"))\n",
    "quantity_hat = int(input(\"How many hats do we have? \"))\n",
    "quantity_book = int(input(\"How many books do we have? \"))\n",
    "quantity_keychain = int(input(\"How many keychains do we have? \"))\n",
    "\n",
    "inventory[\"t-shirt\"] = quantity_tshirt\n",
    "inventory[\"mug\"] = quantity_mug\n",
    "inventory[\"hat\"] = quantity_hat\n",
    "inventory[\"book\"] = quantity_book\n",
    "inventory[\"keychain\"] = quantity_keychain\n",
    "inventory\n",
    "\n",
    "customer_orders = set()\n",
    "\n",
    "order1 = input(\"What does the client wants to order from our inventory? \")\n",
    "order2 = input(\"What does the client wants to order from our inventory? \")\n",
    "order3 = input(\"What does the client wants to order from our inventory? \")\n",
    "customer_orders.add(order1)\n",
    "customer_orders.add(order2)\n",
    "customer_orders.add(order3)\n",
    "print(\"The customer ordered: \", customer_orders)\n",
    "    \n",
    "total_products_ordered = int(len(customer_orders))\n",
    "percentage_products_ordered = (total_products_ordered / (quantity_tshirt + quantity_mug + quantity_hat + quantity_book + quantity_keychain))*100\n",
    "\n",
    "print(\"Order Statistics: \")\n",
    "print(\"Total Products Ordered: \", total_products_ordered)\n",
    "print(\"Percentage of Products Ordered: \", percentage_products_ordered, \" %\")\n",
    "\n",
    "for item in customer_orders:\n",
    "        if item in inventory:\n",
    "            inventory[item] -= 1\n",
    "\n",
    "inventory"
   ]
  },
  {
   "cell_type": "code",
   "execution_count": null,
   "metadata": {},
   "outputs": [],
   "source": []
  }
 ],
 "metadata": {
  "kernelspec": {
   "display_name": "Python 3 (ipykernel)",
   "language": "python",
   "name": "python3"
  },
  "language_info": {
   "codemirror_mode": {
    "name": "ipython",
    "version": 3
   },
   "file_extension": ".py",
   "mimetype": "text/x-python",
   "name": "python",
   "nbconvert_exporter": "python",
   "pygments_lexer": "ipython3",
   "version": "3.11.5"
  }
 },
 "nbformat": 4,
 "nbformat_minor": 4
}
